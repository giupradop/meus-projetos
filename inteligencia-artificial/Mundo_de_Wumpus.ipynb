{
  "nbformat": 4,
  "nbformat_minor": 0,
  "metadata": {
    "colab": {
      "provenance": []
    },
    "kernelspec": {
      "name": "python3",
      "display_name": "Python 3"
    },
    "language_info": {
      "name": "python"
    }
  },
  "cells": [
    {
      "cell_type": "code",
      "source": [
        "#cada posição do vetor representa a prença ou ausencia de um atributo\n",
        "# na seguinte ordem : [wumpus, buraco, gold, fedor,vento]\n",
        "\n",
        "def cria_mapa():\n",
        "  mapa =     [[[0,0,0,0,0],[0,0,0,0,1],[0,1,0,0,0],[0,0,0,0,1]],\n",
        "              [[0,0,0,0,1],[0,0,0,0,0],[0,0,0,1,1],[0,1,0,0,0]],\n",
        "              [[0,1,0,0,0],[0,0,0,1,1],[1,0,0,0,0],[0,0,0,1,1]],\n",
        "              [[0,0,0,0,1],[0,0,0,0,0],[0,0,1,1,0],[0,0,0,0,0]]]\n",
        "  return mapa\n",
        "  #buraco no (2,0), (0,2) e (1,3), wumpus no (2,2), ouro no (3,2). inicia no (0,0)\n",
        "mapa = cria_mapa()"
      ],
      "metadata": {
        "id": "LeavHFJv4DTX"
      },
      "execution_count": 1,
      "outputs": []
    },
    {
      "cell_type": "code",
      "source": [
        "#criar mapa 2 vazio\n",
        "#Fonte https://pt.stackoverflow.com/questions/205528/como-criar-uma-matriz-em-python\n",
        "\n",
        "linhas = 4\n",
        "colunas = 4\n",
        "\n",
        "mapa2 = [['']*colunas for _ in range(linhas)]\n"
      ],
      "metadata": {
        "id": "U7w5FU4oE5br"
      },
      "execution_count": 2,
      "outputs": []
    },
    {
      "cell_type": "code",
      "source": [
        "def retornastring(coisa):\n",
        "  aux  = []\n",
        "\n",
        "  if coisa == [0,0,0,0,0]:\n",
        "   aux.append(\"Vazio\")\n",
        "   return aux\n",
        "\n",
        "\n",
        "  if coisa[0] == 1:\n",
        "    aux.append('Wongus')\n",
        "\n",
        "  if coisa[1] == 1:\n",
        "    aux.append('Buraco')\n",
        "\n",
        "  if coisa[2] == 1:\n",
        "    aux.append('Gold')\n",
        "\n",
        "  if coisa[3] == 1:\n",
        "    aux.append('Fedor')\n",
        "\n",
        "  if coisa[4] == 1:\n",
        "    aux.append('Vento')\n",
        "\n",
        "  return aux\n"
      ],
      "metadata": {
        "id": "sT8yUZdSgxhp"
      },
      "execution_count": 3,
      "outputs": []
    },
    {
      "cell_type": "code",
      "source": [
        "for linha in range(len(mapa)):\n",
        "  for coluna in range(len(mapa[linha])):\n",
        "      for valor in range(len(mapa[linha][coluna])):\n",
        "        mapa2[linha][coluna] = retornastring(mapa[linha][coluna])"
      ],
      "metadata": {
        "id": "SSXZ0ElTQQ_R"
      },
      "execution_count": 4,
      "outputs": []
    },
    {
      "cell_type": "code",
      "source": [
        "#essa célula que ajusta o print pra ficar alinhado foi feita pelo GPT\n",
        "# não tinha necessidade de fazer isso, só fiz para visualizar melhor o mapa\n",
        "\n",
        "for linha in mapa2:\n",
        "    for item in linha:\n",
        "        print(f\"{str(item):>20}\", end=\" \")\n",
        "    print('\\n')\n"
      ],
      "metadata": {
        "colab": {
          "base_uri": "https://localhost:8080/"
        },
        "id": "TyIGtjoZjfIE",
        "outputId": "f030cdad-bdcb-4f7d-e74a-ca8cad962e71"
      },
      "execution_count": 5,
      "outputs": [
        {
          "output_type": "stream",
          "name": "stdout",
          "text": [
            "           ['Vazio']            ['Vento']           ['Buraco']            ['Vento'] \n",
            "\n",
            "           ['Vento']            ['Vazio']   ['Fedor', 'Vento']           ['Buraco'] \n",
            "\n",
            "          ['Buraco']   ['Fedor', 'Vento']           ['Wongus']   ['Fedor', 'Vento'] \n",
            "\n",
            "           ['Vento']            ['Vazio']    ['Gold', 'Fedor']            ['Vazio'] \n",
            "\n"
          ]
        }
      ]
    },
    {
      "cell_type": "code",
      "source": [
        "# mapa que o jogador vai ver"
      ],
      "metadata": {
        "id": "NTf4j1Eox2tE"
      },
      "execution_count": 6,
      "outputs": []
    },
    {
      "cell_type": "code",
      "source": [
        "def cria_mapa_jogador(i,j):\n",
        "  matriz  = [['             ']*4 for _ in range(linhas)]\n",
        "\n",
        "  matriz[i][j] = '      0      '\n",
        "\n",
        "  for linha in matriz:\n",
        "    print(linha)\n",
        "\n",
        "#cria_mapa_jogador(0,0)\n",
        "#cria_mapa_jogador(0,1)\n"
      ],
      "metadata": {
        "id": "laMWlbZnzZUY"
      },
      "execution_count": 7,
      "outputs": []
    },
    {
      "cell_type": "code",
      "source": [
        "def direcaoatual (acao, direcaoAtual):\n",
        "\n",
        "  if acao == 1: #direita\n",
        "    direcaoAtual += 1\n",
        "    if direcaoAtual == 5:\n",
        "     direcaoAtual = 1\n",
        "    return direcaoAtual\n",
        "\n",
        "  if acao == 2: #esquerda\n",
        "    direcaoAtual -= 1\n",
        "    if direcaoAtual == 0:\n",
        "     direcaoAtual = 4\n",
        "    return direcaoAtual\n",
        "\n",
        "  if acao == 3: #frente\n",
        "    return direcaoAtual\n",
        "\n",
        "  if acao == 4: #atira\n",
        "    return direcaoAtual\n"
      ],
      "metadata": {
        "id": "bhcDiTup18k4"
      },
      "execution_count": 8,
      "outputs": []
    },
    {
      "cell_type": "code",
      "source": [
        "def Acao (direcaoAtual, acao, anda, atira, i,j):\n",
        "    a,b = 0, 0\n",
        "    tiro=[a,b]\n",
        "\n",
        "    posicao_original = [i,j]\n",
        "\n",
        "   # direcaoNova = direcaoatual(acao, direcaoAtual)\n",
        "\n",
        "  # 1 pra direita, 2 pra esquerda, 3 pra baixo e 4 pra cima\n",
        "    if anda:\n",
        "      if acao == 1:\n",
        "        j += 1\n",
        "      if acao == 2:\n",
        "        j -= 1\n",
        "      if acao == 3:\n",
        "        i += 1\n",
        "      if acao == 4:\n",
        "        i -= 1\n",
        "\n",
        "      if i < 0 or j < 0 or i > 3 or j > 3:\n",
        "        print(\"\\n\\nSe chocou com a parede! Tente novamente.\\n\\n\")\n",
        "        return posicao_original\n",
        "\n",
        "      return [i,j]\n",
        "\n",
        "    if atira:\n",
        "      print(\"\\npara que lado atirar?\\n1: direita\\n2: esquerda\\n3: baixo\\n4: cima\")\n",
        "      direcao_tiro = input()\n",
        "      direcao_tiro = int(direcao_tiro)\n",
        "      if direcao_tiro == 1:\n",
        "        b += 1\n",
        "      if direcao_tiro == 2:\n",
        "        b -= 1\n",
        "      if direcao_tiro == 3:\n",
        "        a += 1\n",
        "      if direcao_tiro == 4:\n",
        "        a -= 1\n",
        "      return posicao_original, [i + a, j + b]\n"
      ],
      "metadata": {
        "id": "LB8H9Wjb5uig"
      },
      "execution_count": 9,
      "outputs": []
    },
    {
      "cell_type": "code",
      "source": [
        "def checaponto(i,j,mapa, ouro):\n",
        "\n",
        "  aux = []\n",
        "  coisa = mapa[i][j]\n",
        "\n",
        "  if coisa == [0,0,0,0,0]:\n",
        "   aux.append(\"Vazio\")\n",
        "   return aux\n",
        "\n",
        "\n",
        "  if coisa[0] == 1:\n",
        "    aux.append('Wongus')\n",
        "\n",
        "  if coisa[1] == 1:\n",
        "    aux.append('Buraco')\n",
        "\n",
        "  if coisa[2] == 1:\n",
        "    aux.append('Brilho')\n",
        "\n",
        "  if coisa[3] == 1:\n",
        "    aux.append('Fedor')\n",
        "\n",
        "  if coisa[4] == 1:\n",
        "    aux.append('Vento')\n",
        "\n",
        "  ' e '.join(aux)\n",
        "\n",
        "  print(f'Voce encontrou: {aux}')\n",
        "\n",
        "\n",
        "\n",
        "\n"
      ],
      "metadata": {
        "id": "mngvUxq2_AlS"
      },
      "execution_count": 10,
      "outputs": []
    },
    {
      "cell_type": "code",
      "source": [
        "import os"
      ],
      "metadata": {
        "id": "VsMuCMDVrTlD"
      },
      "execution_count": 11,
      "outputs": []
    },
    {
      "cell_type": "code",
      "source": [
        "mapa = cria_mapa()\n",
        "\n",
        "flechas = 1\n",
        "ouro = 0\n",
        "jogoativo = True\n",
        "posicao_atual = [0,0]\n",
        "direcao_atual = 1\n",
        "tiro = [0,0]\n",
        "pontos = 0\n",
        "direcaostring = ''\n",
        "\n",
        "print(\"Bem vindo ao mundo de Wumpus! Encontre o ouro e saia vivo da sala!\\n\\n\")\n",
        "\n",
        "\n",
        "\n",
        " # os.system('clear') or None\n",
        "\n",
        "while jogoativo:\n",
        "\n",
        "  os.system('clear') or None\n",
        "\n",
        "  cria_mapa_jogador(posicao_atual[0], posicao_atual[1])\n",
        "\n",
        "  if mapa[posicao_atual[0]][posicao_atual[1]][0] == 1:\n",
        "    print('Voce morreu para o Wumpus :( Fim do jogo.')\n",
        "    jogoativo = False\n",
        "    break\n",
        "\n",
        "  elif mapa[posicao_atual[0]][posicao_atual[1]][1] == 1:\n",
        "    print('Voce caiu no buraco :( Fim do jogo.')\n",
        "    jogoativo = False\n",
        "    break\n",
        "\n",
        " # if direcao_atual == 1:\n",
        "  #  direcaostring = 'baixo'\n",
        "  #if direcao_atual == 2:\n",
        "  #  direcaostring = 'direita'\n",
        "  #if direcao_atual == 3:\n",
        "   # direcaostring = 'cima'\n",
        "  #if direcao_atual == 4:\n",
        "   # direcaostring = 'esquerda'\n",
        "\n",
        "\n",
        "  print(f\"\\nVoce esta na posicao ({posicao_atual[0]},{posicao_atual[1]})\")\n",
        "\n",
        "\n",
        "\n",
        "  checaponto(posicao_atual[0], posicao_atual[1], mapa, ouro)\n",
        "\n",
        "  print('\\n O que deseja fazer?\\n\\n1: andar para a direita\\n2: andar para a esquerda\\n3: andar para baixo\\n4: andar para cima\\n5: atira flecha')\n",
        "\n",
        "  acao = input()\n",
        "  acao = int(acao)\n",
        "\n",
        "  if acao == 1 or acao == 2 or acao == 3 or acao == 4:\n",
        "    posicao_atual = Acao(direcao_atual, acao, True, False, posicao_atual[0], posicao_atual[1])\n",
        "    if mapa[posicao_atual[0]][posicao_atual[1]][2] == 1:\n",
        "      print('Parabens, voce encontrou o ouro! Já pode retornar')\n",
        "      mapa[posicao_atual[0]][posicao_atual[1]][2] = 0\n",
        "      ouro = 1\n",
        "\n",
        "    if posicao_atual == [0,0] and ouro == 1:\n",
        "      print('Voce sobreviveu e pegou o ouro :D Fim do jogo.')\n",
        "      jogoativo = False\n",
        "      break\n",
        "\n",
        "  elif acao == 5:\n",
        "    if flechas == 0:\n",
        "      print('Voce não tem flechas')\n",
        "\n",
        "    flechas -= 1\n",
        "    tiro, direcao_tiro = Acao(direcao_atual, acao, False, True, posicao_atual[0], posicao_atual[1])\n",
        "\n",
        "    if mapa[direcao_tiro[0]][direcao_tiro[1]][0] == 1:\n",
        "      print('Wumpus morreu!')\n",
        "      mapa[direcao_tiro[0]][direcao_tiro[1]][0]  = 0\n",
        "    else:\n",
        "      print('Voce atirou uma flecha, mas nao atingiu nada.')\n",
        "\n",
        "  else:\n",
        "    print('Comando invalido')\n"
      ],
      "metadata": {
        "colab": {
          "base_uri": "https://localhost:8080/"
        },
        "id": "jEdEMQPyqJwx",
        "outputId": "26f49142-7f1c-4f54-8dcb-ca684ee87697"
      },
      "execution_count": null,
      "outputs": [
        {
          "output_type": "stream",
          "name": "stdout",
          "text": [
            "Bem vindo ao mundo de Wumpus! Encontre o ouro e saia vivo da sala!\n",
            "\n",
            "\n",
            "['      0      ', '             ', '             ', '             ']\n",
            "['             ', '             ', '             ', '             ']\n",
            "['             ', '             ', '             ', '             ']\n",
            "['             ', '             ', '             ', '             ']\n",
            "\n",
            "Voce esta na posicao (0,0)\n",
            "\n",
            " O que deseja fazer?\n",
            "\n",
            "1: andar para a direita\n",
            "2: andar para a esquerda\n",
            "3: andar para baixo\n",
            "4: andar para cima\n",
            "5: atira flecha\n",
            "2\n",
            "\n",
            "\n",
            "Se chocou com a parede! Tente novamente.\n",
            "\n",
            "\n",
            "['      0      ', '             ', '             ', '             ']\n",
            "['             ', '             ', '             ', '             ']\n",
            "['             ', '             ', '             ', '             ']\n",
            "['             ', '             ', '             ', '             ']\n",
            "\n",
            "Voce esta na posicao (0,0)\n",
            "\n",
            " O que deseja fazer?\n",
            "\n",
            "1: andar para a direita\n",
            "2: andar para a esquerda\n",
            "3: andar para baixo\n",
            "4: andar para cima\n",
            "5: atira flecha\n",
            "3\n",
            "['             ', '             ', '             ', '             ']\n",
            "['      0      ', '             ', '             ', '             ']\n",
            "['             ', '             ', '             ', '             ']\n",
            "['             ', '             ', '             ', '             ']\n",
            "\n",
            "Voce esta na posicao (1,0)\n",
            "Voce encontrou: ['Vento']\n",
            "\n",
            " O que deseja fazer?\n",
            "\n",
            "1: andar para a direita\n",
            "2: andar para a esquerda\n",
            "3: andar para baixo\n",
            "4: andar para cima\n",
            "5: atira flecha\n"
          ]
        }
      ]
    }
  ]
}